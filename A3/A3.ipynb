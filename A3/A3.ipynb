{
 "cells": [
  {
   "cell_type": "markdown",
   "metadata": {},
   "source": [
    "## Assignment 3 Breast Cancer Stage Classification\n",
    "\n",
    "Breast cancer (BRCA) is the most common cancer in women. One important task to improve the survival rate of BRCA patients is identifying the cancer stage and applying different treatment strategies. We can train a model to classify cancer stages using RNA-seq of patient samples. \n",
    "\n",
    "Tasks:\n",
    "1.\tPrepare a dataset using TCGA-BRCA RNA-Seq data as features and cancer stages as labels. (Hint: you can find the processed RNA-Seq data and patient phenotype data from UCSC Xena)\n",
    "2.\tApplying data processing methods. (Normalization, Training-Test split, etc.)\n",
    "3.\tApplying three different classification estimators and optimizing the parameters through cross-validation.\n",
    "4.\tComparing three estimators by evaluating the performance on the test dataset.\n",
    "5.\tApplying feature selection to improve performance.\n"
   ]
  },
  {
   "cell_type": "markdown",
   "metadata": {},
   "source": [
    "### Task 1"
   ]
  },
  {
   "cell_type": "code",
   "execution_count": 255,
   "metadata": {},
   "outputs": [],
   "source": [
    "import pandas as pd\n",
    "import numpy as np\n",
    "import matplotlib.pyplot as plt\n",
    "import scikitplot as skplt"
   ]
  },
  {
   "cell_type": "code",
   "execution_count": 305,
   "metadata": {},
   "outputs": [],
   "source": [
    "from sklearn.model_selection import train_test_split\n",
    "from sklearn.svm import SVC\n",
    "from sklearn.metrics import accuracy_score, roc_curve, auc, confusion_matrix, classification_report\n",
    "from sklearn.ensemble import RandomForestClassifier\n",
    "from itertools import cycle\n",
    "from sklearn.model_selection import GridSearchCV"
   ]
  },
  {
   "cell_type": "code",
   "execution_count": 257,
   "metadata": {},
   "outputs": [],
   "source": [
    "reads = pd.read_csv('TCGA-BRCA.htseq_fpkm.tsv', sep='\\t', header=0)\n",
    "label = pd.read_csv('TCGA-BRCA.GDC_phenotype.tsv', sep='\\t', header=0)"
   ]
  },
  {
   "cell_type": "code",
   "execution_count": 259,
   "metadata": {},
   "outputs": [],
   "source": [
    "class classifier(object):\n",
    "    def __init__(self, reads, label):\n",
    "        self.reads = reads\n",
    "        self.label = label\n",
    "        self.data = None\n",
    "        self.sel_X = None\n",
    "\n",
    "    def preprossessing(self):\n",
    "        '''Merge the reads and label dataframes into a single dataframe'''\n",
    "        reads = self.reads.set_index('Ensembl_ID').T\n",
    "        reads.reset_index(inplace=True)\n",
    "        reads.rename(columns={'index':'sample_ID'}, inplace=True)\n",
    "\n",
    "        self.label = label.loc[:, ['submitter_id.samples', 'tumor_stage.diagnoses']].rename(columns={'submitter_id.samples':'sample_ID', 'tumor_stage.diagnoses': 'diagnosis'})\n",
    "        print('label 1', self.label.shape)\n",
    "        self.label.dropna(inplace=True)\n",
    "        print('label (drop NA)', self.label.shape)\n",
    "        self.label = self.label.query('diagnosis != \"not reported\"') # exclude samples with no diagnosis\n",
    "        # self.label = self.label.loc[:,['sample_ID','diagnosis']] # extract useful info\n",
    "        # label2.dropna(inplace=True)\n",
    "        print('label (drop \"not reported\")', self.label.shape)\n",
    "        print('The shape of the whole data frame:', reads.shape)\n",
    "        data = pd.merge(reads, self.label, on='sample_ID', how='inner') # merge two dataframes\n",
    "        print('The merged data shape: ', data.shape)\n",
    "        self.data = data\n",
    "        # when the whole process is finished, the return value can be None\n",
    "        return data\n",
    "\n",
    "    def dimen_reduction(self):\n",
    "        pass\n",
    "\n",
    "    def train_test_split(self):\n",
    "        '''First convert the label to binary numerical values, then split the data into training and testing sets;\n",
    "        A label dictionary is created to map the numerical values back to the original labels\n",
    "        '''\n",
    "        self.y = self.data['diagnosis']\n",
    "        self.X = self.data.drop(['sample_ID', 'diagnosis'], axis=1)\n",
    "        self.X_train, self.X_test, self.y_train, self.y_test = train_test_split(self.X, self.y, test_size=0.3, random_state=42)\n",
    "\n",
    "    def sel_train_test_split(self):\n",
    "        self.X_train_sel, self.X_test_sel, self.y_train_sel, self.y_test_sel = train_test_split(self.sel_X, self.y, test_size=0.3, random_state=42)\n",
    "        print('The shape of the selected training set:', self.X_train_sel.shape)\n",
    "\n",
    "    def cross_validation(self):\n",
    "        pass\n",
    "\n",
    "    def testing(self):\n",
    "        pass\n",
    "\n",
    "    def feature_selection(self):\n",
    "        pass"
   ]
  },
  {
   "cell_type": "markdown",
   "metadata": {},
   "source": [
    "### Action codes"
   ]
  },
  {
   "cell_type": "code",
   "execution_count": 260,
   "metadata": {},
   "outputs": [
    {
     "name": "stdout",
     "output_type": "stream",
     "text": [
      "label 1 (1284, 2)\n",
      "label (drop NA) (1282, 2)\n",
      "label (drop \"not reported\") (1270, 2)\n",
      "The shape of the whole data frame: (1217, 60484)\n",
      "The merged data shape:  (1204, 60485)\n"
     ]
    }
   ],
   "source": [
    "A3 = classifier(reads, label)\n",
    "data = A3.preprossessing()\n",
    "A3.train_test_split()"
   ]
  },
  {
   "cell_type": "markdown",
   "metadata": {},
   "source": [
    "## Below are draft"
   ]
  },
  {
   "cell_type": "code",
   "execution_count": 261,
   "metadata": {},
   "outputs": [
    {
     "data": {
      "text/plain": [
       "stage iia     397\n",
       "stage iib     290\n",
       "stage iiia    172\n",
       "stage i       105\n",
       "stage ia       91\n",
       "stage iiic     70\n",
       "stage iiib     31\n",
       "stage iv       22\n",
       "stage x        12\n",
       "stage ib        6\n",
       "stage ii        6\n",
       "stage iii       2\n",
       "Name: diagnosis, dtype: int64"
      ]
     },
     "execution_count": 261,
     "metadata": {},
     "output_type": "execute_result"
    }
   ],
   "source": [
    "A3.data.diagnosis.value_counts()"
   ]
  },
  {
   "cell_type": "markdown",
   "metadata": {},
   "source": [
    "## Base-line performances\n",
    "### SVM"
   ]
  },
  {
   "cell_type": "code",
   "execution_count": 262,
   "metadata": {},
   "outputs": [
    {
     "name": "stdout",
     "output_type": "stream",
     "text": [
      "Accuracy:  0.3149171270718232\n",
      "Confusion matrix: \n",
      " [[ 4  5  0  0 20 10  0  0  0  1  0  0]\n",
      " [ 0  5  0  0 17  6  0  0  0  0  0  0]\n",
      " [ 0  0  0  0  2  2  0  0  0  0  0  0]\n",
      " [ 0  0  0  0  2  1  0  0  0  0  0  0]\n",
      " [ 2  3  0  0 60 27  0 15  1  1  0  0]\n",
      " [ 0  3  0  0 40 31  0 12  0  2  0  0]\n",
      " [ 0  0  0  0  1  0  0  0  0  0  0  0]\n",
      " [ 2  3  0  0 17 18  0  9  0  1  0  0]\n",
      " [ 0  0  0  0  5  3  0  0  1  0  0  0]\n",
      " [ 1  0  0  0  9  7  0  1  0  4  0  0]\n",
      " [ 0  0  0  0  1  2  0  2  0  0  0  0]\n",
      " [ 0  1  0  0  1  1  0  0  0  0  0  0]]\n",
      "Classification report: \n",
      "               precision    recall  f1-score   support\n",
      "\n",
      "     stage i       0.44      0.10      0.16        40\n",
      "    stage ia       0.25      0.18      0.21        28\n",
      "    stage ib       0.00      0.00      0.00         4\n",
      "    stage ii       0.00      0.00      0.00         3\n",
      "   stage iia       0.34      0.55      0.42       109\n",
      "   stage iib       0.29      0.35      0.32        88\n",
      "   stage iii       0.00      0.00      0.00         1\n",
      "  stage iiia       0.23      0.18      0.20        50\n",
      "  stage iiib       0.50      0.11      0.18         9\n",
      "  stage iiic       0.44      0.18      0.26        22\n",
      "    stage iv       0.00      0.00      0.00         5\n",
      "     stage x       0.00      0.00      0.00         3\n",
      "\n",
      "    accuracy                           0.31       362\n",
      "   macro avg       0.21      0.14      0.15       362\n",
      "weighted avg       0.31      0.31      0.29       362\n",
      "\n"
     ]
    },
    {
     "name": "stderr",
     "output_type": "stream",
     "text": [
      "/Users/damarisdeng/opt/anaconda3/lib/python3.8/site-packages/sklearn/metrics/_classification.py:1334: UndefinedMetricWarning: Precision and F-score are ill-defined and being set to 0.0 in labels with no predicted samples. Use `zero_division` parameter to control this behavior.\n",
      "  _warn_prf(average, modifier, msg_start, len(result))\n",
      "/Users/damarisdeng/opt/anaconda3/lib/python3.8/site-packages/sklearn/metrics/_classification.py:1334: UndefinedMetricWarning: Precision and F-score are ill-defined and being set to 0.0 in labels with no predicted samples. Use `zero_division` parameter to control this behavior.\n",
      "  _warn_prf(average, modifier, msg_start, len(result))\n",
      "/Users/damarisdeng/opt/anaconda3/lib/python3.8/site-packages/sklearn/metrics/_classification.py:1334: UndefinedMetricWarning: Precision and F-score are ill-defined and being set to 0.0 in labels with no predicted samples. Use `zero_division` parameter to control this behavior.\n",
      "  _warn_prf(average, modifier, msg_start, len(result))\n"
     ]
    }
   ],
   "source": [
    "# construct multi-class SVM classifier\n",
    "model = SVC(kernel='linear', gamma=\"auto\")\n",
    "model.fit(A3.X_train, A3.y_train)\n",
    "y_pred = model.predict(A3.X_test)\n",
    "print('Accuracy: ', accuracy_score(A3.y_test, y_pred))\n",
    "# print('Confusion matrix: \\n', confusion_matrix(A3.y_test, y_pred))\n",
    "# print('Classification report: \\n', classification_report(A3.y_test, y_pred))"
   ]
  },
  {
   "cell_type": "markdown",
   "metadata": {},
   "source": [
    "### Feature selection"
   ]
  },
  {
   "cell_type": "code",
   "execution_count": 301,
   "metadata": {},
   "outputs": [
    {
     "data": {
      "text/plain": [
       "(1204, 7000)"
      ]
     },
     "execution_count": 301,
     "metadata": {},
     "output_type": "execute_result"
    }
   ],
   "source": [
    "# conduct feature selection based on chi2 test\n",
    "from sklearn.feature_selection import SelectKBest, chi2\n",
    "select = SelectKBest(chi2, k=7000)\n",
    "X_new = select.fit_transform(A3.X, A3.y)\n",
    "X_new.shape"
   ]
  },
  {
   "cell_type": "markdown",
   "metadata": {},
   "source": [
    "Use the SVM to predict based on the selected features"
   ]
  },
  {
   "cell_type": "code",
   "execution_count": 265,
   "metadata": {},
   "outputs": [
    {
     "name": "stdout",
     "output_type": "stream",
     "text": [
      "['ENSG00000277257.1' 'ENSG00000277646.1' 'ENSG00000255461.1'\n",
      " 'ENSG00000146399.1' 'ENSG00000168530.14' 'ENSG00000163092.18'\n",
      " 'ENSG00000201393.1' 'ENSG00000129170.7' 'ENSG00000181693.7'\n",
      " 'ENSG00000164326.4']\n"
     ]
    }
   ],
   "source": [
    "# the selected features\n",
    "chosen_index = select.get_support()\n",
    "features = np.array(A3.X.columns)\n",
    "print(features[chosen_index])"
   ]
  },
  {
   "cell_type": "code",
   "execution_count": 302,
   "metadata": {},
   "outputs": [],
   "source": [
    "# train-test split\n",
    "X_train, X_test, y_train, y_test = train_test_split(X_new, A3.y, test_size=0.3, random_state=42)"
   ]
  },
  {
   "cell_type": "code",
   "execution_count": 304,
   "metadata": {},
   "outputs": [
    {
     "name": "stdout",
     "output_type": "stream",
     "text": [
      "Accuracy:  0.292817679558011\n"
     ]
    }
   ],
   "source": [
    "# train a new SVM model using the selected features\n",
    "model3 = SVC(kernel='linear', gamma=\"auto\")\n",
    "model3.fit(X_train, y_train)\n",
    "y_pred3 = model3.predict(X_test)\n",
    "print('Accuracy: ', accuracy_score(y_test, y_pred3))"
   ]
  },
  {
   "cell_type": "markdown",
   "metadata": {},
   "source": [
    "### Try something new\n",
    "I try to select features based on their variance"
   ]
  },
  {
   "cell_type": "code",
   "execution_count": 283,
   "metadata": {},
   "outputs": [
    {
     "name": "stdout",
     "output_type": "stream",
     "text": [
      "(1204, 5675)\n",
      "The shape of the selected training set: (842, 5675)\n"
     ]
    }
   ],
   "source": [
    "# feature selection\n",
    "from sklearn.feature_selection import VarianceThreshold\n",
    "selector = VarianceThreshold(threshold=0.5)\n",
    "selector.fit(A3.X_train)\n",
    "A3.sel_X = selector.transform(A3.X)\n",
    "print(A3.sel_X.shape)\n",
    "A3.sel_train_test_split()"
   ]
  },
  {
   "cell_type": "code",
   "execution_count": 288,
   "metadata": {},
   "outputs": [
    {
     "name": "stdout",
     "output_type": "stream",
     "text": [
      "Accuracy:  0.6546961325966851\n"
     ]
    }
   ],
   "source": [
    "# use random forest (select features) !!!\n",
    "rfc2 = RandomForestClassifier(n_estimators=50, max_depth=7, max_features=20)\n",
    "rfc2.fit(A3.sel_X, A3.y)\n",
    "y_pred7 = rfc2.predict(A3.X_test_sel)\n",
    "print('Accuracy: ', accuracy_score(A3.y_test_sel, y_pred7))"
   ]
  },
  {
   "cell_type": "code",
   "execution_count": 309,
   "metadata": {},
   "outputs": [
    {
     "name": "stdout",
     "output_type": "stream",
     "text": [
      "Fitting 3 folds for each of 1512 candidates, totalling 4536 fits\n",
      "[CV 2/3] END bootstrap=True, max_depth=10, max_features=20, min_samples_leaf=1, min_samples_split=2, n_estimators=10;, score=0.306 total time=   0.3s\n",
      "[CV 1/3] END bootstrap=True, max_depth=10, max_features=20, min_samples_leaf=1, min_samples_split=2, n_estimators=10;, score=0.281 total time=   0.3s\n",
      "[CV 3/3] END bootstrap=True, max_depth=10, max_features=20, min_samples_leaf=1, min_samples_split=2, n_estimators=10;, score=0.314 total time=   0.3s\n",
      "[CV 3/3] END bootstrap=True, max_depth=10, max_features=20, min_samples_leaf=1, min_samples_split=2, n_estimators=50;, score=0.357 total time=   1.0s\n",
      "[CV 1/3] END bootstrap=True, max_depth=10, max_features=20, min_samples_leaf=1, min_samples_split=2, n_estimators=50;, score=0.370 total time=   1.0s\n",
      "[CV 2/3] END bootstrap=True, max_depth=10, max_features=20, min_samples_leaf=1, min_samples_split=2, n_estimators=50;, score=0.345 total time=   1.0s\n",
      "[CV 1/3] END bootstrap=True, max_depth=10, max_features=20, min_samples_leaf=1, min_samples_split=5, n_estimators=10;, score=0.320 total time=   0.2s\n",
      "[CV 2/3] END bootstrap=True, max_depth=10, max_features=20, min_samples_leaf=1, min_samples_split=5, n_estimators=10;, score=0.320 total time=   0.2s\n",
      "[CV 3/3] END bootstrap=True, max_depth=10, max_features=20, min_samples_leaf=1, min_samples_split=5, n_estimators=10;, score=0.318 total time=   0.2s\n",
      "[CV 1/3] END bootstrap=True, max_depth=10, max_features=20, min_samples_leaf=1, min_samples_split=2, n_estimators=100;, score=0.367 total time=   1.7s\n",
      "[CV 2/3] END bootstrap=True, max_depth=10, max_features=20, min_samples_leaf=1, min_samples_split=2, n_estimators=100;, score=0.359 total time=   1.8s\n",
      "[CV 3/3] END bootstrap=True, max_depth=10, max_features=20, min_samples_leaf=1, min_samples_split=2, n_estimators=100;, score=0.339 total time=   1.6s\n",
      "[CV 1/3] END bootstrap=True, max_depth=10, max_features=20, min_samples_leaf=1, min_samples_split=5, n_estimators=50;, score=0.352 total time=   0.8s\n",
      "[CV 2/3] END bootstrap=True, max_depth=10, max_features=20, min_samples_leaf=1, min_samples_split=5, n_estimators=50;, score=0.331 total time=   0.9s\n",
      "[CV 3/3] END bootstrap=True, max_depth=10, max_features=20, min_samples_leaf=1, min_samples_split=5, n_estimators=50;, score=0.332 total time=   0.9s\n",
      "[CV 1/3] END bootstrap=True, max_depth=10, max_features=20, min_samples_leaf=1, min_samples_split=5, n_estimators=100;, score=0.349 total time=   1.8s\n",
      "[CV 1/3] END bootstrap=True, max_depth=10, max_features=20, min_samples_leaf=1, min_samples_split=2, n_estimators=200;, score=0.370 total time=   3.4s\n",
      "[CV 2/3] END bootstrap=True, max_depth=10, max_features=20, min_samples_leaf=1, min_samples_split=2, n_estimators=200;, score=0.352 total time=   3.5s\n",
      "[CV 2/3] END bootstrap=True, max_depth=10, max_features=20, min_samples_leaf=1, min_samples_split=5, n_estimators=100;, score=0.349 total time=   1.9s\n",
      "[CV 3/3] END bootstrap=True, max_depth=10, max_features=20, min_samples_leaf=1, min_samples_split=5, n_estimators=100;, score=0.343 total time=   1.9s\n",
      "[CV 1/3] END bootstrap=True, max_depth=10, max_features=20, min_samples_leaf=1, min_samples_split=10, n_estimators=10;, score=0.310 total time=   0.2s\n",
      "[CV 2/3] END bootstrap=True, max_depth=10, max_features=20, min_samples_leaf=1, min_samples_split=10, n_estimators=10;, score=0.302 total time=   0.2s\n",
      "[CV 3/3] END bootstrap=True, max_depth=10, max_features=20, min_samples_leaf=1, min_samples_split=10, n_estimators=10;, score=0.282 total time=   0.2s\n",
      "[CV 3/3] END bootstrap=True, max_depth=10, max_features=20, min_samples_leaf=1, min_samples_split=2, n_estimators=200;, score=0.343 total time=   3.5s\n",
      "[CV 1/3] END bootstrap=True, max_depth=10, max_features=20, min_samples_leaf=1, min_samples_split=10, n_estimators=50;, score=0.374 total time=   0.8s\n",
      "[CV 2/3] END bootstrap=True, max_depth=10, max_features=20, min_samples_leaf=1, min_samples_split=10, n_estimators=50;, score=0.349 total time=   0.8s\n",
      "[CV 3/3] END bootstrap=True, max_depth=10, max_features=20, min_samples_leaf=1, min_samples_split=10, n_estimators=50;, score=0.332 total time=   0.8s\n",
      "[CV 1/3] END bootstrap=True, max_depth=10, max_features=20, min_samples_leaf=1, min_samples_split=10, n_estimators=100;, score=0.370 total time=   1.6s\n",
      "[CV 1/3] END bootstrap=True, max_depth=10, max_features=20, min_samples_leaf=1, min_samples_split=5, n_estimators=200;, score=0.374 total time=   3.4s\n",
      "[CV 1/3] END bootstrap=True, max_depth=10, max_features=20, min_samples_leaf=2, min_samples_split=2, n_estimators=10;, score=0.313 total time=   0.3s\n",
      "[CV 2/3] END bootstrap=True, max_depth=10, max_features=20, min_samples_leaf=1, min_samples_split=5, n_estimators=200;, score=0.349 total time=   3.4s\n",
      "[CV 2/3] END bootstrap=True, max_depth=10, max_features=20, min_samples_leaf=1, min_samples_split=10, n_estimators=100;, score=0.335 total time=   1.6s\n",
      "[CV 2/3] END bootstrap=True, max_depth=10, max_features=20, min_samples_leaf=2, min_samples_split=2, n_estimators=10;, score=0.274 total time=   0.2s\n",
      "[CV 3/3] END bootstrap=True, max_depth=10, max_features=20, min_samples_leaf=2, min_samples_split=2, n_estimators=10;, score=0.282 total time=   0.2s\n",
      "[CV 3/3] END bootstrap=True, max_depth=10, max_features=20, min_samples_leaf=1, min_samples_split=10, n_estimators=100;, score=0.339 total time=   1.6s\n",
      "[CV 3/3] END bootstrap=True, max_depth=10, max_features=20, min_samples_leaf=1, min_samples_split=5, n_estimators=200;, score=0.357 total time=   3.5s\n",
      "[CV 1/3] END bootstrap=True, max_depth=10, max_features=20, min_samples_leaf=2, min_samples_split=2, n_estimators=50;, score=0.345 total time=   1.0s\n",
      "[CV 2/3] END bootstrap=True, max_depth=10, max_features=20, min_samples_leaf=2, min_samples_split=2, n_estimators=50;, score=0.342 total time=   1.0s\n",
      "[CV 3/3] END bootstrap=True, max_depth=10, max_features=20, min_samples_leaf=2, min_samples_split=2, n_estimators=50;, score=0.354 total time=   1.0s\n",
      "[CV 1/3] END bootstrap=True, max_depth=10, max_features=20, min_samples_leaf=1, min_samples_split=10, n_estimators=200;, score=0.374 total time=   3.4s\n",
      "[CV 1/3] END bootstrap=True, max_depth=10, max_features=20, min_samples_leaf=2, min_samples_split=2, n_estimators=100;, score=0.327 total time=   1.9s\n",
      "[CV 2/3] END bootstrap=True, max_depth=10, max_features=20, min_samples_leaf=1, min_samples_split=10, n_estimators=200;, score=0.331 total time=   3.5s\n",
      "[CV 1/3] END bootstrap=True, max_depth=10, max_features=20, min_samples_leaf=2, min_samples_split=5, n_estimators=10;, score=0.342 total time=   0.2s\n",
      "[CV 2/3] END bootstrap=True, max_depth=10, max_features=20, min_samples_leaf=2, min_samples_split=5, n_estimators=10;, score=0.270 total time=   0.2s\n",
      "[CV 3/3] END bootstrap=True, max_depth=10, max_features=20, min_samples_leaf=2, min_samples_split=5, n_estimators=10;, score=0.293 total time=   0.2s\n",
      "[CV 2/3] END bootstrap=True, max_depth=10, max_features=20, min_samples_leaf=2, min_samples_split=2, n_estimators=100;, score=0.327 total time=   1.8s\n",
      "[CV 3/3] END bootstrap=True, max_depth=10, max_features=20, min_samples_leaf=2, min_samples_split=2, n_estimators=100;, score=0.343 total time=   1.7s\n",
      "[CV 3/3] END bootstrap=True, max_depth=10, max_features=20, min_samples_leaf=1, min_samples_split=10, n_estimators=200;, score=0.343 total time=   3.4s\n",
      "[CV 1/3] END bootstrap=True, max_depth=10, max_features=20, min_samples_leaf=2, min_samples_split=5, n_estimators=50;, score=0.349 total time=   0.8s\n",
      "[CV 2/3] END bootstrap=True, max_depth=10, max_features=20, min_samples_leaf=2, min_samples_split=5, n_estimators=50;, score=0.338 total time=   0.8s\n",
      "[CV 3/3] END bootstrap=True, max_depth=10, max_features=20, min_samples_leaf=2, min_samples_split=5, n_estimators=50;, score=0.336 total time=   0.8s\n",
      "[CV 1/3] END bootstrap=True, max_depth=10, max_features=20, min_samples_leaf=2, min_samples_split=5, n_estimators=100;, score=0.345 total time=   1.6s\n",
      "[CV 2/3] END bootstrap=True, max_depth=10, max_features=20, min_samples_leaf=2, min_samples_split=2, n_estimators=200;, score=0.349 total time=   3.2s\n",
      "[CV 1/3] END bootstrap=True, max_depth=10, max_features=20, min_samples_leaf=2, min_samples_split=2, n_estimators=200;, score=0.338 total time=   3.3s\n",
      "[CV 2/3] END bootstrap=True, max_depth=10, max_features=20, min_samples_leaf=2, min_samples_split=5, n_estimators=100;, score=0.335 total time=   1.6s\n",
      "[CV 1/3] END bootstrap=True, max_depth=10, max_features=20, min_samples_leaf=2, min_samples_split=10, n_estimators=10;, score=0.281 total time=   0.2s\n",
      "[CV 2/3] END bootstrap=True, max_depth=10, max_features=20, min_samples_leaf=2, min_samples_split=10, n_estimators=10;, score=0.313 total time=   0.3s\n",
      "[CV 3/3] END bootstrap=True, max_depth=10, max_features=20, min_samples_leaf=2, min_samples_split=10, n_estimators=10;, score=0.318 total time=   0.3s\n",
      "[CV 3/3] END bootstrap=True, max_depth=10, max_features=20, min_samples_leaf=2, min_samples_split=5, n_estimators=100;, score=0.311 total time=   1.7s\n",
      "[CV 3/3] END bootstrap=True, max_depth=10, max_features=20, min_samples_leaf=2, min_samples_split=2, n_estimators=200;, score=0.343 total time=   3.3s\n",
      "[CV 1/3] END bootstrap=True, max_depth=10, max_features=20, min_samples_leaf=2, min_samples_split=10, n_estimators=50;, score=0.349 total time=   1.0s\n",
      "[CV 2/3] END bootstrap=True, max_depth=10, max_features=20, min_samples_leaf=2, min_samples_split=10, n_estimators=50;, score=0.327 total time=   1.0s\n",
      "[CV 3/3] END bootstrap=True, max_depth=10, max_features=20, min_samples_leaf=2, min_samples_split=10, n_estimators=50;, score=0.332 total time=   1.0s\n",
      "[CV 1/3] END bootstrap=True, max_depth=10, max_features=20, min_samples_leaf=2, min_samples_split=10, n_estimators=100;, score=0.377 total time=   1.9s\n",
      "[CV 1/3] END bootstrap=True, max_depth=10, max_features=20, min_samples_leaf=2, min_samples_split=5, n_estimators=200;, score=0.367 total time=   3.6s\n",
      "[CV 2/3] END bootstrap=True, max_depth=10, max_features=20, min_samples_leaf=2, min_samples_split=5, n_estimators=200;, score=0.335 total time=   3.6s\n",
      "[CV 1/3] END bootstrap=True, max_depth=10, max_features=20, min_samples_leaf=4, min_samples_split=2, n_estimators=10;, score=0.327 total time=   0.2s\n",
      "[CV 2/3] END bootstrap=True, max_depth=10, max_features=20, min_samples_leaf=2, min_samples_split=10, n_estimators=100;, score=0.359 total time=   1.9s\n",
      "[CV 2/3] END bootstrap=True, max_depth=10, max_features=20, min_samples_leaf=4, min_samples_split=2, n_estimators=10;, score=0.299 total time=   0.2s\n",
      "[CV 3/3] END bootstrap=True, max_depth=10, max_features=20, min_samples_leaf=2, min_samples_split=10, n_estimators=100;, score=0.332 total time=   1.9s\n",
      "[CV 3/3] END bootstrap=True, max_depth=10, max_features=20, min_samples_leaf=4, min_samples_split=2, n_estimators=10;, score=0.286 total time=   0.3s\n",
      "[CV 3/3] END bootstrap=True, max_depth=10, max_features=20, min_samples_leaf=2, min_samples_split=5, n_estimators=200;, score=0.332 total time=   3.8s\n",
      "[CV 1/3] END bootstrap=True, max_depth=10, max_features=20, min_samples_leaf=4, min_samples_split=2, n_estimators=50;, score=0.356 total time=   1.0s\n",
      "[CV 2/3] END bootstrap=True, max_depth=10, max_features=20, min_samples_leaf=4, min_samples_split=2, n_estimators=50;, score=0.374 total time=   1.0s\n",
      "[CV 3/3] END bootstrap=True, max_depth=10, max_features=20, min_samples_leaf=4, min_samples_split=2, n_estimators=50;, score=0.314 total time=   1.0s\n",
      "[CV 1/3] END bootstrap=True, max_depth=10, max_features=20, min_samples_leaf=4, min_samples_split=2, n_estimators=100;, score=0.381 total time=   1.7s\n",
      "[CV 1/3] END bootstrap=True, max_depth=10, max_features=20, min_samples_leaf=2, min_samples_split=10, n_estimators=200;, score=0.352 total time=   3.7s\n",
      "[CV 2/3] END bootstrap=True, max_depth=10, max_features=20, min_samples_leaf=2, min_samples_split=10, n_estimators=200;, score=0.352 total time=   3.6s\n",
      "[CV 1/3] END bootstrap=True, max_depth=10, max_features=20, min_samples_leaf=4, min_samples_split=5, n_estimators=10;, score=0.295 total time=   0.2s\n",
      "[CV 2/3] END bootstrap=True, max_depth=10, max_features=20, min_samples_leaf=4, min_samples_split=2, n_estimators=100;, score=0.335 total time=   1.6s\n",
      "[CV 2/3] END bootstrap=True, max_depth=10, max_features=20, min_samples_leaf=4, min_samples_split=5, n_estimators=10;, score=0.313 total time=   0.2s\n",
      "[CV 3/3] END bootstrap=True, max_depth=10, max_features=20, min_samples_leaf=4, min_samples_split=5, n_estimators=10;, score=0.325 total time=   0.2s\n",
      "[CV 3/3] END bootstrap=True, max_depth=10, max_features=20, min_samples_leaf=4, min_samples_split=2, n_estimators=100;, score=0.329 total time=   1.6s\n",
      "[CV 3/3] END bootstrap=True, max_depth=10, max_features=20, min_samples_leaf=2, min_samples_split=10, n_estimators=200;, score=0.339 total time=   3.4s\n",
      "[CV 1/3] END bootstrap=True, max_depth=10, max_features=20, min_samples_leaf=4, min_samples_split=5, n_estimators=50;, score=0.324 total time=   0.7s\n",
      "[CV 2/3] END bootstrap=True, max_depth=10, max_features=20, min_samples_leaf=4, min_samples_split=5, n_estimators=50;, score=0.363 total time=   0.7s\n",
      "[CV 3/3] END bootstrap=True, max_depth=10, max_features=20, min_samples_leaf=4, min_samples_split=5, n_estimators=50;, score=0.329 total time=   0.7s\n",
      "[CV 1/3] END bootstrap=True, max_depth=10, max_features=20, min_samples_leaf=4, min_samples_split=2, n_estimators=200;, score=0.352 total time=   3.0s\n",
      "[CV 1/3] END bootstrap=True, max_depth=10, max_features=20, min_samples_leaf=4, min_samples_split=5, n_estimators=100;, score=0.356 total time=   1.4s\n",
      "[CV 2/3] END bootstrap=True, max_depth=10, max_features=20, min_samples_leaf=4, min_samples_split=2, n_estimators=200;, score=0.349 total time=   2.9s\n",
      "[CV 1/3] END bootstrap=True, max_depth=10, max_features=20, min_samples_leaf=4, min_samples_split=10, n_estimators=10;, score=0.327 total time=   0.2s\n",
      "[CV 2/3] END bootstrap=True, max_depth=10, max_features=20, min_samples_leaf=4, min_samples_split=5, n_estimators=100;, score=0.345 total time=   1.4s\n",
      "[CV 2/3] END bootstrap=True, max_depth=10, max_features=20, min_samples_leaf=4, min_samples_split=10, n_estimators=10;, score=0.313 total time=   0.2s\n",
      "[CV 3/3] END bootstrap=True, max_depth=10, max_features=20, min_samples_leaf=4, min_samples_split=10, n_estimators=10;, score=0.325 total time=   0.2s\n",
      "[CV 3/3] END bootstrap=True, max_depth=10, max_features=20, min_samples_leaf=4, min_samples_split=5, n_estimators=100;, score=0.329 total time=   1.4s\n",
      "[CV 3/3] END bootstrap=True, max_depth=10, max_features=20, min_samples_leaf=4, min_samples_split=2, n_estimators=200;, score=0.343 total time=   2.8s\n",
      "[CV 1/3] END bootstrap=True, max_depth=10, max_features=20, min_samples_leaf=4, min_samples_split=10, n_estimators=50;, score=0.363 total time=   0.7s\n",
      "[CV 2/3] END bootstrap=True, max_depth=10, max_features=20, min_samples_leaf=4, min_samples_split=10, n_estimators=50;, score=0.310 total time=   0.8s\n",
      "[CV 3/3] END bootstrap=True, max_depth=10, max_features=20, min_samples_leaf=4, min_samples_split=10, n_estimators=50;, score=0.329 total time=   0.7s\n",
      "[CV 1/3] END bootstrap=True, max_depth=10, max_features=20, min_samples_leaf=4, min_samples_split=5, n_estimators=200;, score=0.359 total time=   3.0s\n",
      "[CV 1/3] END bootstrap=True, max_depth=10, max_features=20, min_samples_leaf=4, min_samples_split=10, n_estimators=100;, score=0.374 total time=   1.7s\n",
      "[CV 2/3] END bootstrap=True, max_depth=10, max_features=20, min_samples_leaf=4, min_samples_split=5, n_estimators=200;, score=0.349 total time=   3.1s\n",
      "[CV 2/3] END bootstrap=True, max_depth=10, max_features=20, min_samples_leaf=4, min_samples_split=10, n_estimators=100;, score=0.335 total time=   1.8s\n",
      "[CV 1/3] END bootstrap=True, max_depth=10, max_features=50, min_samples_leaf=1, min_samples_split=2, n_estimators=10;, score=0.352 total time=   0.5s\n",
      "[CV 2/3] END bootstrap=True, max_depth=10, max_features=50, min_samples_leaf=1, min_samples_split=2, n_estimators=10;, score=0.278 total time=   0.5s\n",
      "[CV 3/3] END bootstrap=True, max_depth=10, max_features=20, min_samples_leaf=4, min_samples_split=10, n_estimators=100;, score=0.346 total time=   1.8s\n",
      "[CV 3/3] END bootstrap=True, max_depth=10, max_features=50, min_samples_leaf=1, min_samples_split=2, n_estimators=10;, score=0.300 total time=   0.4s\n",
      "[CV 3/3] END bootstrap=True, max_depth=10, max_features=20, min_samples_leaf=4, min_samples_split=5, n_estimators=200;, score=0.357 total time=   3.2s\n",
      "[CV 1/3] END bootstrap=True, max_depth=10, max_features=20, min_samples_leaf=4, min_samples_split=10, n_estimators=200;, score=0.367 total time=   3.4s\n",
      "[CV 2/3] END bootstrap=True, max_depth=10, max_features=20, min_samples_leaf=4, min_samples_split=10, n_estimators=200;, score=0.349 total time=   3.4s\n",
      "[CV 1/3] END bootstrap=True, max_depth=10, max_features=50, min_samples_leaf=1, min_samples_split=2, n_estimators=50;, score=0.342 total time=   1.9s\n",
      "[CV 2/3] END bootstrap=True, max_depth=10, max_features=50, min_samples_leaf=1, min_samples_split=2, n_estimators=50;, score=0.342 total time=   1.9s\n",
      "[CV 3/3] END bootstrap=True, max_depth=10, max_features=50, min_samples_leaf=1, min_samples_split=2, n_estimators=50;, score=0.293 total time=   1.9s\n",
      "[CV 1/3] END bootstrap=True, max_depth=10, max_features=50, min_samples_leaf=1, min_samples_split=5, n_estimators=10;, score=0.306 total time=   0.6s\n",
      "[CV 3/3] END bootstrap=True, max_depth=10, max_features=20, min_samples_leaf=4, min_samples_split=10, n_estimators=200;, score=0.350 total time=   3.4s\n",
      "[CV 2/3] END bootstrap=True, max_depth=10, max_features=50, min_samples_leaf=1, min_samples_split=5, n_estimators=10;, score=0.295 total time=   0.5s\n",
      "[CV 3/3] END bootstrap=True, max_depth=10, max_features=50, min_samples_leaf=1, min_samples_split=5, n_estimators=10;, score=0.314 total time=   0.5s\n",
      "[CV 1/3] END bootstrap=True, max_depth=10, max_features=50, min_samples_leaf=1, min_samples_split=2, n_estimators=100;, score=0.349 total time=   3.9s\n",
      "[CV 2/3] END bootstrap=True, max_depth=10, max_features=50, min_samples_leaf=1, min_samples_split=2, n_estimators=100;, score=0.349 total time=   3.8s\n",
      "[CV 1/3] END bootstrap=True, max_depth=10, max_features=50, min_samples_leaf=1, min_samples_split=5, n_estimators=50;, score=0.363 total time=   1.6s\n",
      "[CV 2/3] END bootstrap=True, max_depth=10, max_features=50, min_samples_leaf=1, min_samples_split=5, n_estimators=50;, score=0.310 total time=   1.6s\n",
      "[CV 3/3] END bootstrap=True, max_depth=10, max_features=50, min_samples_leaf=1, min_samples_split=2, n_estimators=100;, score=0.336 total time=   3.6s\n",
      "[CV 3/3] END bootstrap=True, max_depth=10, max_features=50, min_samples_leaf=1, min_samples_split=5, n_estimators=50;, score=0.325 total time=   1.6s\n",
      "[CV 1/3] END bootstrap=True, max_depth=10, max_features=50, min_samples_leaf=1, min_samples_split=5, n_estimators=100;, score=0.363 total time=   3.2s\n",
      "[CV 2/3] END bootstrap=True, max_depth=10, max_features=50, min_samples_leaf=1, min_samples_split=5, n_estimators=100;, score=0.356 total time=   3.2s\n",
      "[CV 3/3] END bootstrap=True, max_depth=10, max_features=50, min_samples_leaf=1, min_samples_split=5, n_estimators=100;, score=0.311 total time=   3.2s\n",
      "[CV 1/3] END bootstrap=True, max_depth=10, max_features=50, min_samples_leaf=1, min_samples_split=10, n_estimators=10;, score=0.335 total time=   0.4s\n",
      "[CV 2/3] END bootstrap=True, max_depth=10, max_features=50, min_samples_leaf=1, min_samples_split=10, n_estimators=10;, score=0.288 total time=   0.4s\n",
      "[CV 2/3] END bootstrap=True, max_depth=10, max_features=50, min_samples_leaf=1, min_samples_split=2, n_estimators=200;, score=0.349 total time=   6.8s\n",
      "[CV 1/3] END bootstrap=True, max_depth=10, max_features=50, min_samples_leaf=1, min_samples_split=2, n_estimators=200;, score=0.331 total time=   6.8s\n",
      "[CV 3/3] END bootstrap=True, max_depth=10, max_features=50, min_samples_leaf=1, min_samples_split=10, n_estimators=10;, score=0.296 total time=   0.4s\n",
      "[CV 3/3] END bootstrap=True, max_depth=10, max_features=50, min_samples_leaf=1, min_samples_split=2, n_estimators=200;, score=0.325 total time=   6.8s\n",
      "[CV 1/3] END bootstrap=True, max_depth=10, max_features=50, min_samples_leaf=1, min_samples_split=10, n_estimators=50;, score=0.320 total time=   1.8s\n",
      "[CV 2/3] END bootstrap=True, max_depth=10, max_features=50, min_samples_leaf=1, min_samples_split=10, n_estimators=50;, score=0.320 total time=   1.7s\n",
      "[CV 3/3] END bootstrap=True, max_depth=10, max_features=50, min_samples_leaf=1, min_samples_split=10, n_estimators=50;, score=0.325 total time=   1.7s\n",
      "[CV 1/3] END bootstrap=True, max_depth=10, max_features=50, min_samples_leaf=1, min_samples_split=5, n_estimators=200;, score=0.356 total time=   6.6s\n",
      "[CV 1/3] END bootstrap=True, max_depth=10, max_features=50, min_samples_leaf=1, min_samples_split=10, n_estimators=100;, score=0.352 total time=   3.2s\n",
      "[CV 2/3] END bootstrap=True, max_depth=10, max_features=50, min_samples_leaf=1, min_samples_split=10, n_estimators=100;, score=0.352 total time=   3.3s\n",
      "[CV 2/3] END bootstrap=True, max_depth=10, max_features=50, min_samples_leaf=1, min_samples_split=5, n_estimators=200;, score=0.359 total time=   6.6s\n",
      "[CV 1/3] END bootstrap=True, max_depth=10, max_features=50, min_samples_leaf=2, min_samples_split=2, n_estimators=10;, score=0.285 total time=   0.4s\n",
      "[CV 2/3] END bootstrap=True, max_depth=10, max_features=50, min_samples_leaf=2, min_samples_split=2, n_estimators=10;, score=0.288 total time=   0.4s\n",
      "[CV 3/3] END bootstrap=True, max_depth=10, max_features=50, min_samples_leaf=2, min_samples_split=2, n_estimators=10;, score=0.329 total time=   0.4s\n",
      "[CV 3/3] END bootstrap=True, max_depth=10, max_features=50, min_samples_leaf=1, min_samples_split=10, n_estimators=100;, score=0.314 total time=   3.3s\n",
      "[CV 3/3] END bootstrap=True, max_depth=10, max_features=50, min_samples_leaf=1, min_samples_split=5, n_estimators=200;, score=0.361 total time=   6.7s\n",
      "[CV 1/3] END bootstrap=True, max_depth=10, max_features=50, min_samples_leaf=2, min_samples_split=2, n_estimators=50;, score=0.359 total time=   1.7s\n",
      "[CV 2/3] END bootstrap=True, max_depth=10, max_features=50, min_samples_leaf=2, min_samples_split=2, n_estimators=50;, score=0.338 total time=   1.7s\n",
      "[CV 3/3] END bootstrap=True, max_depth=10, max_features=50, min_samples_leaf=2, min_samples_split=2, n_estimators=50;, score=0.332 total time=   1.7s\n",
      "[CV 1/3] END bootstrap=True, max_depth=10, max_features=50, min_samples_leaf=1, min_samples_split=10, n_estimators=200;, score=0.381 total time=   6.9s\n",
      "[CV 1/3] END bootstrap=True, max_depth=10, max_features=50, min_samples_leaf=2, min_samples_split=2, n_estimators=100;, score=0.377 total time=   3.7s\n",
      "[CV 2/3] END bootstrap=True, max_depth=10, max_features=50, min_samples_leaf=1, min_samples_split=10, n_estimators=200;, score=0.370 total time=   7.0s\n",
      "[CV 1/3] END bootstrap=True, max_depth=10, max_features=50, min_samples_leaf=2, min_samples_split=5, n_estimators=10;, score=0.338 total time=   0.4s\n",
      "[CV 2/3] END bootstrap=True, max_depth=10, max_features=50, min_samples_leaf=2, min_samples_split=5, n_estimators=10;, score=0.306 total time=   0.4s\n",
      "[CV 2/3] END bootstrap=True, max_depth=10, max_features=50, min_samples_leaf=2, min_samples_split=2, n_estimators=100;, score=0.345 total time=   3.7s\n",
      "[CV 3/3] END bootstrap=True, max_depth=10, max_features=50, min_samples_leaf=2, min_samples_split=2, n_estimators=100;, score=0.346 total time=   3.7s\n",
      "[CV 3/3] END bootstrap=True, max_depth=10, max_features=50, min_samples_leaf=2, min_samples_split=5, n_estimators=10;, score=0.286 total time=   0.3s\n",
      "[CV 3/3] END bootstrap=True, max_depth=10, max_features=50, min_samples_leaf=1, min_samples_split=10, n_estimators=200;, score=0.336 total time=   6.9s\n",
      "[CV 1/3] END bootstrap=True, max_depth=10, max_features=50, min_samples_leaf=2, min_samples_split=5, n_estimators=50;, score=0.352 total time=   1.6s\n",
      "[CV 2/3] END bootstrap=True, max_depth=10, max_features=50, min_samples_leaf=2, min_samples_split=5, n_estimators=50;, score=0.313 total time=   1.6s\n",
      "[CV 3/3] END bootstrap=True, max_depth=10, max_features=50, min_samples_leaf=2, min_samples_split=5, n_estimators=50;, score=0.332 total time=   1.6s\n",
      "[CV 1/3] END bootstrap=True, max_depth=10, max_features=50, min_samples_leaf=2, min_samples_split=2, n_estimators=200;, score=0.363 total time=   7.1s\n",
      "[CV 1/3] END bootstrap=True, max_depth=10, max_features=50, min_samples_leaf=2, min_samples_split=5, n_estimators=100;, score=0.359 total time=   3.3s\n",
      "[CV 2/3] END bootstrap=True, max_depth=10, max_features=50, min_samples_leaf=2, min_samples_split=2, n_estimators=200;, score=0.335 total time=   7.0s\n",
      "[CV 1/3] END bootstrap=True, max_depth=10, max_features=50, min_samples_leaf=2, min_samples_split=10, n_estimators=10;, score=0.295 total time=   0.4s\n",
      "[CV 2/3] END bootstrap=True, max_depth=10, max_features=50, min_samples_leaf=2, min_samples_split=10, n_estimators=10;, score=0.285 total time=   0.4s\n",
      "[CV 2/3] END bootstrap=True, max_depth=10, max_features=50, min_samples_leaf=2, min_samples_split=5, n_estimators=100;, score=0.352 total time=   3.4s\n",
      "[CV 3/3] END bootstrap=True, max_depth=10, max_features=50, min_samples_leaf=2, min_samples_split=10, n_estimators=10;, score=0.314 total time=   0.4s\n",
      "[CV 3/3] END bootstrap=True, max_depth=10, max_features=50, min_samples_leaf=2, min_samples_split=5, n_estimators=100;, score=0.350 total time=   3.5s\n",
      "[CV 1/3] END bootstrap=True, max_depth=10, max_features=50, min_samples_leaf=2, min_samples_split=10, n_estimators=50;, score=0.345 total time=   2.2s\n",
      "[CV 3/3] END bootstrap=True, max_depth=10, max_features=50, min_samples_leaf=2, min_samples_split=2, n_estimators=200;, score=0.357 total time=   7.1s\n",
      "[CV 2/3] END bootstrap=True, max_depth=10, max_features=50, min_samples_leaf=2, min_samples_split=10, n_estimators=50;, score=0.374 total time=   2.2s\n",
      "[CV 3/3] END bootstrap=True, max_depth=10, max_features=50, min_samples_leaf=2, min_samples_split=10, n_estimators=50;, score=0.339 total time=   2.2s\n",
      "[CV 1/3] END bootstrap=True, max_depth=10, max_features=50, min_samples_leaf=2, min_samples_split=10, n_estimators=100;, score=0.352 total time=   3.5s\n",
      "[CV 2/3] END bootstrap=True, max_depth=10, max_features=50, min_samples_leaf=2, min_samples_split=5, n_estimators=200;, score=0.356 total time=   7.2s\n",
      "[CV 1/3] END bootstrap=True, max_depth=10, max_features=50, min_samples_leaf=2, min_samples_split=5, n_estimators=200;, score=0.359 total time=   7.3s\n",
      "[CV 1/3] END bootstrap=True, max_depth=10, max_features=50, min_samples_leaf=4, min_samples_split=2, n_estimators=10;, score=0.331 total time=   0.5s\n",
      "[CV 2/3] END bootstrap=True, max_depth=10, max_features=50, min_samples_leaf=4, min_samples_split=2, n_estimators=10;, score=0.260 total time=   0.5s\n",
      "[CV 2/3] END bootstrap=True, max_depth=10, max_features=50, min_samples_leaf=2, min_samples_split=10, n_estimators=100;, score=0.331 total time=   3.6s\n",
      "[CV 3/3] END bootstrap=True, max_depth=10, max_features=50, min_samples_leaf=4, min_samples_split=2, n_estimators=10;, score=0.293 total time=   0.5s\n",
      "[CV 3/3] END bootstrap=True, max_depth=10, max_features=50, min_samples_leaf=2, min_samples_split=10, n_estimators=100;, score=0.321 total time=   3.6s\n",
      "[CV 3/3] END bootstrap=True, max_depth=10, max_features=50, min_samples_leaf=2, min_samples_split=5, n_estimators=200;, score=0.350 total time=   7.7s\n",
      "[CV 1/3] END bootstrap=True, max_depth=10, max_features=50, min_samples_leaf=4, min_samples_split=2, n_estimators=50;, score=0.349 total time=   2.1s\n"
     ]
    }
   ],
   "source": [
    "# hyperparameter tuning\n",
    "import warnings\n",
    "warnings.filterwarnings('ignore')\n",
    "param_grid = {'bootstrap': [True, False],\n",
    "              'max_depth': [5, 15, 50, 100, None],\n",
    "              'max_features': [20, 50, 80],\n",
    "              'min_samples_leaf': [1, 2, 4],\n",
    "              'min_samples_split': [2, 5, 10],\n",
    "              'n_estimators': [10, 50, 100, 200]}\n",
    "grid = GridSearchCV(RandomForestClassifier(), param_grid, cv=3, verbose=3, n_jobs=-1)\n",
    "grid.fit(A3.X_train_sel, A3.y_train_sel)\n",
    "print(grid.best_params_)"
   ]
  },
  {
   "cell_type": "markdown",
   "metadata": {},
   "source": [
    "#### MLP (compare before and after)"
   ]
  },
  {
   "cell_type": "code",
   "execution_count": null,
   "metadata": {},
   "outputs": [
    {
     "name": "stdout",
     "output_type": "stream",
     "text": [
      "Accuracy:  0.30662983425414364\n"
     ]
    }
   ],
   "source": [
    "# use MLP to train the model\n",
    "from sklearn.neural_network import MLPClassifier\n",
    "mlp = MLPClassifier(hidden_layer_sizes=(100, 100, 100), max_iter=500)\n",
    "mlp.fit(A3.X_train, A3.y_train)\n",
    "y_pred8 = mlp.predict(A3.X_test)\n",
    "print('Accuracy: ', accuracy_score(A3.y_test, y_pred8))\n"
   ]
  },
  {
   "cell_type": "code",
   "execution_count": 297,
   "metadata": {},
   "outputs": [
    {
     "name": "stdout",
     "output_type": "stream",
     "text": [
      "Accuracy:  0.30939226519337015\n"
     ]
    }
   ],
   "source": [
    "# use MLP to train the model using new features\n",
    "mlp2 = MLPClassifier(hidden_layer_sizes=(100, 100, 100), max_iter=500)\n",
    "mlp2.fit(A3.X_train_sel, A3.y_train_sel)\n",
    "y_pred9 = mlp2.predict(A3.X_test_sel)\n",
    "print('Accuracy: ', accuracy_score(A3.y_test_sel, y_pred9))"
   ]
  },
  {
   "cell_type": "markdown",
   "metadata": {},
   "source": [
    "#### Try SVM"
   ]
  },
  {
   "cell_type": "code",
   "execution_count": 299,
   "metadata": {},
   "outputs": [
    {
     "name": "stdout",
     "output_type": "stream",
     "text": [
      "Accuracy:  0.3011049723756906\n"
     ]
    }
   ],
   "source": [
    "svm2 = SVC(kernel='linear', gamma=\"auto\")\n",
    "svm2.fit(A3.X_train_sel, A3.y_train_sel)\n",
    "y_pred10 = svm2.predict(A3.X_test_sel)\n",
    "print('Accuracy: ', accuracy_score(A3.y_test_sel, y_pred10))"
   ]
  },
  {
   "cell_type": "markdown",
   "metadata": {},
   "source": [
    "Try to use XGBoost"
   ]
  },
  {
   "cell_type": "code",
   "execution_count": null,
   "metadata": {},
   "outputs": [],
   "source": [
    "import xgboost as xgb"
   ]
  },
  {
   "cell_type": "code",
   "execution_count": null,
   "metadata": {},
   "outputs": [],
   "source": []
  }
 ],
 "metadata": {
  "kernelspec": {
   "display_name": "Python 3.8.5 ('base')",
   "language": "python",
   "name": "python3"
  },
  "language_info": {
   "codemirror_mode": {
    "name": "ipython",
    "version": 3
   },
   "file_extension": ".py",
   "mimetype": "text/x-python",
   "name": "python",
   "nbconvert_exporter": "python",
   "pygments_lexer": "ipython3",
   "version": "3.8.5"
  },
  "orig_nbformat": 4,
  "vscode": {
   "interpreter": {
    "hash": "5684c24e7b5fcef90f2a57823d93e544ff1f9f38d3d0df1544269a25d13d98c4"
   }
  }
 },
 "nbformat": 4,
 "nbformat_minor": 2
}
