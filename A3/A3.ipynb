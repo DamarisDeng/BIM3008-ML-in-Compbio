{
 "cells": [
  {
   "cell_type": "code",
   "execution_count": 3,
   "metadata": {},
   "outputs": [],
   "source": [
    "import pandas as pd\n",
    "import numpy as np\n",
    "from sklearn.svm import SVC\n",
    "from sklearn.metrics import accuracy_score, confusion_matrix\n",
    "from sklearn.ensemble import RandomForestClassifier\n",
    "from sklearn.neighbors import KNeighborsClassifier\n",
    "from sklearn.model_selection import GridSearchCV, train_test_split\n",
    "from sklearn.feature_selection import VarianceThreshold, SelectKBest, chi2\n",
    "\n",
    "class Classifier(object):\n",
    "    def __init__(self, reads, label, genes):\n",
    "        self.reads = reads\n",
    "        self.label = label\n",
    "        self.genes = genes\n",
    "        self.X_train = []\n",
    "        self.y_train = []\n",
    "        self.X_test = []\n",
    "        self.y_test = []\n",
    "        self.svm = SVC() # will be updated after the grid search\n",
    "        self.rf = RandomForestClassifier()\n",
    "        self.knn = KNeighborsClassifier()\n",
    "\n",
    "    def preprossessing(self):\n",
    "        '''This function calls the preprocess_label and preprocess_reads functions and merge two dataframes\n",
    "        '''\n",
    "        self.preprocess_reads()\n",
    "        self.preprocess_label()\n",
    "        data = pd.merge(self.reads, self.label, on='sample_ID', how='inner') # merge two dataframes\n",
    "        newname = data.columns[1:-1].str.split('.').str[0]\n",
    "        data.rename(columns=dict(zip(data.columns[1:-1], newname)), inplace=True)\n",
    "        print('The shape of dataframe after merging is: ', data.shape)\n",
    "        self.data = data\n",
    "        print('-'*14, 'Finish preprocessing', '-'*14, '\\n')\n",
    "    \n",
    "    def preprocess_label(self):\n",
    "        '''This function merges some substages into one stage, drop the samples with no diagnosis, \n",
    "        and drop the samples with \"not reported\" diagnosis\n",
    "        '''\n",
    "        print('Processing labels')\n",
    "        label = self.label\n",
    "        label.loc[label['tumor_stage.diagnoses'] == 'stage ia', 'tumor_stage.diagnoses'] = 'stage i'\n",
    "        label.loc[label['tumor_stage.diagnoses'] == 'stage ib', 'tumor_stage.diagnoses'] = 'stage i'\n",
    "        label.loc[label['tumor_stage.diagnoses'] == 'stage iia', 'tumor_stage.diagnoses'] = 'stage ii'\n",
    "        label.loc[label['tumor_stage.diagnoses'] == 'stage iib', 'tumor_stage.diagnoses'] = 'stage ii'\n",
    "        label.loc[label['tumor_stage.diagnoses'] == 'stage iiia', 'tumor_stage.diagnoses'] = 'stage iii'\n",
    "        label.loc[label['tumor_stage.diagnoses'] == 'stage iiib', 'tumor_stage.diagnoses'] = 'stage iii'\n",
    "        label.loc[label['tumor_stage.diagnoses'] == 'stage iiic', 'tumor_stage.diagnoses'] = 'stage iii'\n",
    "        label = label.loc[:, ['submitter_id.samples', 'tumor_stage.diagnoses']].rename(columns={'submitter_id.samples':'sample_ID', 'tumor_stage.diagnoses': 'diagnosis'})\n",
    "        label.dropna(inplace=True) # drop samples with no diagnosis\n",
    "        label = label.query('diagnosis != \"not reported\"') # exclude samples with 'not reported' diagnoses\n",
    "        label = label.query('diagnosis != \"stage x\"') # exclude samples with 'not reported' diagnoses\n",
    "\n",
    "        self.label = label\n",
    "        print('After processing, the shape of the label dataframe is:', label.shape)\n",
    "        print('Summary of labels:\\n', label.diagnosis.value_counts())\n",
    "        print('Finish processing labels')\n",
    "        return label\n",
    "    \n",
    "    def preprocess_reads(self):\n",
    "        '''This function transposes the reads dataframe, rename the first column into sample_ID to prepare for merging, duplicates and NA are also dropped'''\n",
    "        print('Processing reads')\n",
    "        print('This procedure may take 30 seconds to 1 minute.')\n",
    "        reads = self.reads.set_index('Ensembl_ID').T\n",
    "        reads.reset_index(inplace=True)\n",
    "        reads.dropna(inplace=True)\n",
    "        reads.drop_duplicates(inplace=True)\n",
    "        reads.rename(columns={'index':'sample_ID'}, inplace=True)\n",
    "        print('After processing, the shape of the reads dataframe is:', reads.shape)\n",
    "        print('Finish processing reads')\n",
    "        self.reads = reads\n",
    "        reads.to_csv('reads.txt', index=False)\n",
    "\n",
    "    def train_test_split(self):\n",
    "        '''First convert the label to binary numerical values, then split the data into training and testing sets;\n",
    "        A label dictionary is created to map the numerical values back to the original labels\n",
    "        '''\n",
    "        print('Splitting data')\n",
    "        y = self.data['diagnosis']\n",
    "        X = self.data.drop(['sample_ID', 'diagnosis'], axis=1)\n",
    "        self.X_train, self.X_test, self.y_train, self.y_test = train_test_split(X, y, test_size=0.3)\n",
    "        print('The shape of training set is: ', self.X_train.shape)\n",
    "        print('The shape of testing set is: ', self.X_test.shape)\n",
    "        print('Finish splitting data')\n",
    "\n",
    "    def train_test(self):\n",
    "        '''This function calls three models (SVM, RF, KNN) to train the data'''\n",
    "        print('SVM, RF, and KNN will be used to train the data.')\n",
    "        self.train_svm()\n",
    "        self.train_rf()\n",
    "        self.train_knn()\n",
    "        print('\\n')\n",
    "        \n",
    "    def train_svm(self):\n",
    "        '''This function trains the SVM model'''\n",
    "        print('Training SVM...')\n",
    "        self.svm.fit(self.X_train, self.y_train)\n",
    "        ypred_svm = self.svm.predict(self.X_test)\n",
    "        print('The accuracy of SVM is: ', accuracy_score(self.y_test, ypred_svm))\n",
    "        print('The confusion matrix of SVM is: \\n', confusion_matrix(self.y_test, ypred_svm))\n",
    "        print('\\n')\n",
    "    \n",
    "    def train_rf(self):\n",
    "        '''This function trains the RF model'''\n",
    "        print('Training RF...')\n",
    "        self.rf.fit(self.X_train, self.y_train)\n",
    "        ypred_rf = self.rf.predict(self.X_test)\n",
    "        print('The accuracy of RF is: ', accuracy_score(self.y_test, ypred_rf))\n",
    "        print('The confusion matrix of RF is: \\n', confusion_matrix(self.y_test, ypred_rf))\n",
    "        print('\\n')\n",
    "\n",
    "    def train_knn(self):\n",
    "        '''This function trains the KNN model'''\n",
    "        print('Training KNN...')\n",
    "        self.knn.fit(self.X_train, self.y_train)\n",
    "        ypred_knn = self.knn.predict(self.X_test)\n",
    "        print('The accuracy of KNN is: ', accuracy_score(self.y_test, ypred_knn))\n",
    "        print('The confusion matrix of KNN is: \\n', confusion_matrix(self.y_test, ypred_knn))\n",
    "        print('\\n')\n",
    "\n",
    "    def hyperparameter_tuning(self):\n",
    "        '''GridSearchCV is used to find the best parameters for the selected model, this process may take a long while to finish.'''\n",
    "        print('-'*10, 'Hyperparameter tuning', '-'*10)\n",
    "        svm_params = {\n",
    "            'kernel':['linear', 'sigmoid', 'poly', 'rbf'],\n",
    "            'gamma':['auto', 'scale'],\n",
    "        }\n",
    "        grid1 = GridSearchCV(SVC(), svm_params, cv=3, verbose=3)\n",
    "        grid1.fit(self.X_train, self.y_train)\n",
    "        print('The best parameters for SVM are:', grid1.best_params_)\n",
    "        self.svm = grid1.best_estimator_ # save the best svm model\n",
    "        print('SVM has been updated.')\n",
    "        print('Evaluate the performance on test set...')\n",
    "        ypred1 = grid1.predict(self.X_test)\n",
    "        print('Accuracy:', accuracy_score(self.y_test, ypred1))\n",
    "        print('Confusion matrix: \\n', confusion_matrix(self.y_test, ypred1))\n",
    "\n",
    "        rf_params = {\n",
    "            'bootstrap': [True, False],\n",
    "            'max_depth': [5, 50, 100, None],\n",
    "            'max_features': [20, 50, 80],\n",
    "            'min_samples_leaf': [1, 2, 4],\n",
    "            'min_samples_split': [2, 5, 10],\n",
    "            'n_estimators': [10, 100, 200]\n",
    "        }\n",
    "        grid2 = GridSearchCV(RandomForestClassifier(), rf_params, cv=3, verbose=3, n_jobs=-1)\n",
    "        grid2.fit(self.X_train, self.y_train)\n",
    "        print('The best parameters for RF are:', grid2.best_params_)\n",
    "        self.rf = grid2.best_estimator_ # save the best rf model\n",
    "        print('RF has been updated.')\n",
    "        print('Evaluate the performance on test set')\n",
    "        ypred2 = grid2.predict(self.X_test)\n",
    "        print('Accuracy:', accuracy_score(self.y_test, ypred2))\n",
    "        print('Confusion matrix: \\n', confusion_matrix(self.y_test, ypred2))\n",
    "\n",
    "        knn_params = {'n_neighbors':[5, 10, 20, 50, 100]}\n",
    "        grid3 = GridSearchCV(KNeighborsClassifier(), knn_params, cv=3, verbose=3, n_jobs=-1)\n",
    "        grid3.fit(self.X_train, self.y_train)\n",
    "        print('The best parameters for KNN are:', grid3.best_params_)\n",
    "        self.knn = grid3.best_estimator_ # save the best knn model\n",
    "        print('KNN has been updated.')\n",
    "        print('Evaluate the performance on test set')\n",
    "        ypred3 = grid3.predict(self.X_test)\n",
    "        print('Accuracy:', accuracy_score(self.y_test, ypred3))\n",
    "        print('Confusion matrix: \\n', confusion_matrix(self.y_test, ypred3))\n",
    "\n",
    "    def feature_selection(self):\n",
    "        '''Six methods are called by this method. The first three are three ways to select features, the last three are three ways to evaluate the importance of features.'''\n",
    "        self.feature_selection_variance()\n",
    "        self.feature_selection_chi2()\n",
    "        self.feature_selection_prior(self.genes)\n",
    "        self.training1()\n",
    "        self.training2()\n",
    "        self.training3()\n",
    "\n",
    "    def feature_selection_variance(self):\n",
    "        '''This function uses variance threshold (0.5) to select features'''\n",
    "        selector = VarianceThreshold(threshold=0.5)\n",
    "        selector.fit(self.X_train)\n",
    "        self.X_train1 = selector.transform(self.X_train)\n",
    "        self.X_test1 = selector.transform(self.X_test)\n",
    "        print(f'Feature selection: [{self.X_test1.shape[1]}] features with variance > 0.5 are selected.')\n",
    "        \n",
    "    def feature_selection_chi2(self):\n",
    "        '''This function selects genes based on chi2 test'''\n",
    "        selector = SelectKBest(chi2, k=20)\n",
    "        selector.fit(self.X_train, self.y_train)\n",
    "        self.X_train2 = selector.transform(self.X_train)\n",
    "        self.X_test2 = selector.transform(self.X_test)\n",
    "        print(f'Feature selection: [{self.X_test2.shape[1]}] features with p-value < 0.01 are selected.')\n",
    "\n",
    "    def feature_selection_prior(self, genes):\n",
    "        '''This function selects genes that are mentioned in the literature'''\n",
    "        ID = genes['ID']\n",
    "        self.X_train3 = self.X_train.loc[:, ID]\n",
    "        self.X_test3 = self.X_test.loc[:, ID]\n",
    "        print(f'Feature selection: [{self.X_test3.shape[1]}] features are selected based on literature.')\n",
    "\n",
    "    def training1(self):\n",
    "        '''This function trains the models using the first set of selected features'''\n",
    "        print('Performance of different models using the first set of selected features:')\n",
    "        self.svm.fit(self.X_train1, self.y_train)\n",
    "        ypred1 = self.svm.predict(self.X_test1)\n",
    "        print('The accuracy of SVM is: ', accuracy_score(self.y_test, ypred1))\n",
    "        print('The confusion matrix of SVM is: \\n', confusion_matrix(self.y_test, ypred1))\n",
    "        self.rf.fit(self.X_train1, self.y_train)\n",
    "        ypred2 = self.rf.predict(self.X_test1)\n",
    "        print('The accuracy of RF is: ', accuracy_score(self.y_test, ypred2))\n",
    "        print('The confusion matrix of RF is: \\n', confusion_matrix(self.y_test, ypred2))\n",
    "        self.knn.fit(self.X_train1, self.y_train)\n",
    "        ypred3 = self.knn.predict(self.X_test1)\n",
    "        print('The accuracy of KNN is: ', accuracy_score(self.y_test, ypred3))\n",
    "        print('The confusion matrix of KNN is: \\n', confusion_matrix(self.y_test, ypred3))\n",
    "        print('\\n')\n",
    "\n",
    "    def training2(self):\n",
    "        '''This function trains the models using the second set of selected features'''\n",
    "        print('Performance of different models using the second set of selected features:')\n",
    "        self.svm.fit(self.X_train2, self.y_train)\n",
    "        ypred1 = self.svm.predict(self.X_test2)\n",
    "        print('The accuracy of SVM is: ', accuracy_score(self.y_test, ypred1))\n",
    "        print('The confusion matrix of SVM is: \\n', confusion_matrix(self.y_test, ypred1))\n",
    "        self.rf.fit(self.X_train2, self.y_train)\n",
    "        ypred2 = self.rf.predict(self.X_test2)\n",
    "        print('The accuracy of RF is: ', accuracy_score(self.y_test, ypred2))\n",
    "        print('The confusion matrix of RF is: \\n', confusion_matrix(self.y_test, ypred2))\n",
    "        self.knn.fit(self.X_train2, self.y_train)\n",
    "        ypred3 = self.knn.predict(self.X_test2)\n",
    "        print('The accuracy of KNN is: ', accuracy_score(self.y_test, ypred3))\n",
    "        print('The confusion matrix of KNN is: \\n', confusion_matrix(self.y_test, ypred3))\n",
    "        print('\\n')\n",
    "    \n",
    "    def training3(self):\n",
    "        '''This function trains the models using the third set of selected features'''\n",
    "        print('Performance of different models using the third set of selected features:')\n",
    "        self.svm.fit(self.X_train3, self.y_train)\n",
    "        ypred1 = self.svm.predict(self.X_test3)\n",
    "        print('The accuracy of SVM is: ', accuracy_score(self.y_test, ypred1))\n",
    "        print('The confusion matrix of SVM is: \\n', confusion_matrix(self.y_test, ypred1))\n",
    "        self.rf.fit(self.X_train3, self.y_train)\n",
    "        ypred2 = self.rf.predict(self.X_test3)\n",
    "        print('The accuracy of RF is: ', accuracy_score(self.y_test, ypred2))\n",
    "        print('The confusion matrix of RF is: \\n', confusion_matrix(self.y_test, ypred2))\n",
    "        self.knn.fit(self.X_train3, self.y_train)\n",
    "        ypred3 = self.knn.predict(self.X_test3)\n",
    "        print('The accuracy of KNN is: ', accuracy_score(self.y_test, ypred3))\n",
    "        print('The confusion matrix of KNN is: \\n', confusion_matrix(self.y_test, ypred3))\n",
    "        print('\\n')"
   ]
  },
  {
   "cell_type": "code",
   "execution_count": 4,
   "metadata": {},
   "outputs": [
    {
     "name": "stdout",
     "output_type": "stream",
     "text": [
      "Start loading data...\n",
      "Processing reads\n",
      "This procedure may take 30 seconds to 1 minute.\n",
      "After processing, the shape of the reads dataframe is: (1217, 60484)\n",
      "Finish processing reads\n"
     ]
    }
   ],
   "source": [
    "if __name__ == '__main__':\n",
    "    print('Start loading data...')\n",
    "    genes = pd.read_csv('genes.txt', sep='\\t', header=0)\n",
    "    genes = genes.drop(['Unnamed: 2'], axis=1).rename(columns={'Gene Symbol': 'symbol', 'Ensembl Gene ID': 'ID'})\n",
    "    reads = pd.read_csv('TCGA-BRCA.htseq_fpkm.tsv', sep='\\t', header=0)\n",
    "    label = pd.read_csv('TCGA-BRCA.GDC_phenotype.tsv', sep='\\t', header=0)\n",
    "\n",
    "    C = Classifier(reads, label, genes)\n",
    "    C.preprocess_reads()\n",
    "    # C.train_test_split()\n",
    "    # C.train_test()\n",
    "    # C.hyperparameter_tuning()\n",
    "    # C.feature_selection()\n",
    "    # print('Finished.')"
   ]
  },
  {
   "cell_type": "code",
   "execution_count": 5,
   "metadata": {},
   "outputs": [
    {
     "name": "stdout",
     "output_type": "stream",
     "text": [
      "SVM, RF, and KNN will be used to train the data.\n",
      "Training SVM...\n",
      "The accuracy of SVM is:  0.5642458100558659\n",
      "The confusion matrix of SVM is: \n",
      " [[  0  62   0   0]\n",
      " [  0 202   0   0]\n",
      " [  0  86   0   0]\n",
      " [  0   8   0   0]]\n",
      "\n",
      "\n",
      "Training RF...\n",
      "The accuracy of RF is:  0.5642458100558659\n",
      "The confusion matrix of RF is: \n",
      " [[  1  61   0   0]\n",
      " [  2 199   1   0]\n",
      " [  0  84   2   0]\n",
      " [  0   8   0   0]]\n",
      "\n",
      "\n",
      "Training KNN...\n",
      "The accuracy of KNN is:  0.4692737430167598\n",
      "The confusion matrix of KNN is: \n",
      " [[ 16  38   8   0]\n",
      " [ 41 141  20   0]\n",
      " [ 12  63  11   0]\n",
      " [  3   3   2   0]]\n",
      "\n",
      "\n",
      "\n",
      "\n"
     ]
    }
   ],
   "source": [
    "C.train_test()"
   ]
  },
  {
   "cell_type": "code",
   "execution_count": 3,
   "metadata": {},
   "outputs": [],
   "source": [
    "X_train, X_test, y_train, y_test = C.X_train, C.X_test, C.y_train, C.y_test"
   ]
  },
  {
   "cell_type": "code",
   "execution_count": 12,
   "metadata": {},
   "outputs": [
    {
     "name": "stdout",
     "output_type": "stream",
     "text": [
      "The accuracy of SVM is:  0.5279329608938548\n",
      "The confusion matrix of SVM is: \n",
      " [[ 12  41   9   0]\n",
      " [ 19 149  38   0]\n",
      " [  4  49  28   0]\n",
      " [  0   4   5   0]]\n"
     ]
    }
   ],
   "source": [
    "# train svm on original data\n",
    "svm = SVC(kernel='linear')\n",
    "svm.fit(X_train, y_train)\n",
    "y_pred = svm.predict(X_test)\n",
    "print('The accuracy of SVM is: ', accuracy_score(y_test, y_pred))\n",
    "print('The confusion matrix of SVM is: \\n', confusion_matrix(y_test, y_pred))"
   ]
  },
  {
   "cell_type": "code",
   "execution_count": 13,
   "metadata": {},
   "outputs": [
    {
     "name": "stdout",
     "output_type": "stream",
     "text": [
      "Feature selection: [1000] features are selected by chi square.\n"
     ]
    }
   ],
   "source": [
    "# use chi2 test to select features\n",
    "selector = SelectKBest(chi2, k=1000)\n",
    "selector.fit(X_train, y_train)\n",
    "X_train1 = selector.transform(X_train)\n",
    "X_test1 = selector.transform(X_test)\n",
    "print(f'Feature selection: [{X_test1.shape[1]}] features are selected by chi square.')"
   ]
  },
  {
   "cell_type": "code",
   "execution_count": 14,
   "metadata": {},
   "outputs": [
    {
     "name": "stdout",
     "output_type": "stream",
     "text": [
      "The accuracy of SVM is:  0.42178770949720673\n",
      "The confusion matrix of SVM is: \n",
      " [[ 14  32  15   1]\n",
      " [ 43 113  50   0]\n",
      " [ 15  42  24   0]\n",
      " [  0   5   4   0]]\n"
     ]
    }
   ],
   "source": [
    "# use svm to predict\n",
    "svm = SVC(kernel='linear')\n",
    "svm.fit(X_train1, y_train)\n",
    "ypred1 = svm.predict(X_test1)\n",
    "print('The accuracy of SVM is: ', accuracy_score(y_test, ypred1))\n",
    "print('The confusion matrix of SVM is: \\n', confusion_matrix(y_test, ypred1))"
   ]
  },
  {
   "cell_type": "code",
   "execution_count": 31,
   "metadata": {},
   "outputs": [
    {
     "name": "stdout",
     "output_type": "stream",
     "text": [
      "PCA: Current dimension is [10].\n"
     ]
    }
   ],
   "source": [
    "# use PCA to do dimension reduction\n",
    "from sklearn.decomposition import PCA\n",
    "pca = PCA(n_components=10)\n",
    "pca.fit(X_train1)\n",
    "X_train2 = pca.transform(X_train1)\n",
    "X_test2 = pca.transform(X_test1)\n",
    "print(f'PCA: Current dimension is [{X_train2.shape[1]}].')"
   ]
  },
  {
   "cell_type": "code",
   "execution_count": 32,
   "metadata": {},
   "outputs": [
    {
     "data": {
      "image/png": "[encoded data removed]",
      "text/plain": [
       "<Figure size 432x288 with 1 Axes>"
      ]
     },
     "metadata": {
      "needs_background": "light"
     },
     "output_type": "display_data"
    }
   ],
   "source": [
    "# visualize the pca result\n",
    "import matplotlib.pyplot as plt\n",
    "y_train_ = y_train.replace({'stage i': 1, 'stage ii': 2, 'stage iii': 3, 'stage iv': 4})\n",
    "plt.scatter(X_train2[:, 0], X_train2[:, 1], c=y_train_)\n",
    "plt.show()"
   ]
  },
  {
   "cell_type": "code",
   "execution_count": 33,
   "metadata": {},
   "outputs": [
    {
     "name": "stdout",
     "output_type": "stream",
     "text": [
      "The accuracy of SVM is:  0.5754189944134078\n",
      "The confusion matrix of SVM is: \n",
      " [[  0  62   0   0]\n",
      " [  0 206   0   0]\n",
      " [  0  81   0   0]\n",
      " [  0   9   0   0]]\n"
     ]
    }
   ],
   "source": [
    "# use svm to predict\n",
    "svm = SVC(kernel='linear')\n",
    "svm.fit(X_train2, y_train)\n",
    "ypred2 = svm.predict(X_test2)\n",
    "print('The accuracy of SVM is: ', accuracy_score(y_test, ypred2))\n",
    "print('The confusion matrix of SVM is: \\n', confusion_matrix(y_test, ypred2))"
   ]
  },
  {
   "cell_type": "code",
   "execution_count": 34,
   "metadata": {},
   "outputs": [
    {
     "data": {
      "text/plain": [
       "(358, 10)"
      ]
     },
     "execution_count": 34,
     "metadata": {},
     "output_type": "execute_result"
    }
   ],
   "source": [
    "X_test2.shape"
   ]
  }
 ],
 "metadata": {
  "kernelspec": {
   "display_name": "Python 3.8.5 ('base')",
   "language": "python",
   "name": "python3"
  },
  "language_info": {
   "codemirror_mode": {
    "name": "ipython",
    "version": 3
   },
   "file_extension": ".py",
   "mimetype": "text/x-python",
   "name": "python",
   "nbconvert_exporter": "python",
   "pygments_lexer": "ipython3",
   "version": "3.8.5"
  },
  "orig_nbformat": 4,
  "vscode": {
   "interpreter": {
    "hash": "5684c24e7b5fcef90f2a57823d93e544ff1f9f38d3d0df1544269a25d13d98c4"
   }
  }
 },
 "nbformat": 4,
 "nbformat_minor": 2
}
