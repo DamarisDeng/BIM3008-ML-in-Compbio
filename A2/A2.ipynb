{
 "cells": [
  {
   "cell_type": "markdown",
   "metadata": {},
   "source": [
    "### q1\n",
    "Write the log likelihood for a multinomial sample and show equation (4.6).\n",
    "$$\n",
    "\\hat{p}_i=\\frac{\\sum_t x_i^t}{N}\n",
    "$$"
   ]
  },
  {
   "cell_type": "markdown",
   "metadata": {},
   "source": [
    "In a multinomial sample, the outcome of a random event is one of K mutually exclusive and exhaustive states, each of which has a probability of occuring $p_i$ with $\\sum^K_{i=1}p_i$. Let $x_1, x_2,...,x_K$ be indicators where $x_i=1$ if the outcome is state $i$ and 0 otherwise.\n",
    "\n",
    "In one experiment, \n",
    "$$\n",
    "P\\left(x_1, x_2, \\ldots, x_K\\right)=\\prod_{i=1}^K p_i^{x_i}\n",
    "$$\n",
    "We do $N$ such independent experiments with outcomes $\\mathcal{X}=$ $\\left\\{\\boldsymbol{x}^t\\right\\}_{t=1}^N$ where $\\sum_i x_i^t=1$ and\n",
    "$$\n",
    "x_i^t= \\begin{cases}1 & \\text { if experiment } t \\text { chooses state } i \\\\ 0 & \\text { otherwise }\\end{cases}$$\n",
    "The constraint is $\\sum_i p_i=1$."
   ]
  },
  {
   "cell_type": "markdown",
   "metadata": {},
   "source": [
    "### q2\n",
    "Write the code that generates a normal sample with given $\\mu$ and $\\sigma$, and the code that calculates $m$ and $s$ from the sample. Do the same using the Bayes’ estimator assuming a prior distribution for $\\mu$"
   ]
  },
  {
   "cell_type": "code",
   "execution_count": null,
   "metadata": {},
   "outputs": [],
   "source": []
  },
  {
   "cell_type": "markdown",
   "metadata": {},
   "source": [
    "### q3\n",
    "Assume a linear model and then add $0$-mean Gaussian noise to generate a sample. Divide your sample into two as training and validation sets. Use linear regression using the training half. Compute error on the validation set. Do the same for polynomials of degrees 2 and 3 as well. "
   ]
  },
  {
   "cell_type": "code",
   "execution_count": 190,
   "metadata": {},
   "outputs": [
    {
     "name": "stdout",
     "output_type": "stream",
     "text": [
      "Train Error (linear): 99.62212970325035\n",
      "Validation Error (linear): 101.05000329342418\n",
      "\n",
      "Train Error (polynomial, degree=2): 99.61329168312504\n",
      "Validation Error (polynomial, degree=2): 101.08743320197074\n",
      "\n",
      "Train Error (polynomial, degree=3): 99.61296703776705\n",
      "Validation Error (polynomial, degree=3): 101.08241042597683\n"
     ]
    }
   ],
   "source": [
    "import numpy as np\n",
    "from sklearn.preprocessing import PolynomialFeatures\n",
    "from sklearn.linear_model import LinearRegression\n",
    "from random import shuffle\n",
    "# generate data with a linear model\n",
    "x = np.arange(0, 1000, 0.1)\n",
    "shuffle(x)\n",
    "y = 4*x + 3\n",
    "# add Gaussian noise, noise~(N(0, 10))\n",
    "y += np.random.normal(0, 10, len(x))\n",
    "\n",
    "# train-validate split, 60% for training, 40% for validating\n",
    "train_x = x[:int(len(x)*0.6)]\n",
    "train_y = y[:int(len(y)*0.6)]\n",
    "valid_x = x[int(len(x)*0.6):]\n",
    "valid_y = y[int(len(y)*0.6):]\n",
    "\n",
    "# train a linear model\n",
    "model = LinearRegression()\n",
    "model.fit(train_x.reshape(-1,1), train_y)\n",
    "error_train_1 = np.mean((model.predict(train_x.reshape(-1,1)) - train_y)**2)\n",
    "print(f'Train Error (linear): {error_train_1}')\n",
    "y_pred = model.predict(valid_x.reshape(-1,1))\n",
    "error_test_1 = np.mean((y_pred - valid_y)**2)\n",
    "print(f'Validation Error (linear): {error_test_1}')\n",
    "\n",
    "# train a polynomial model (degree = 2)\n",
    "poly = PolynomialFeatures(degree=2)\n",
    "train_x_poly = poly.fit_transform(train_x.reshape(-1,1))\n",
    "valid_x_poly = poly.fit_transform(valid_x.reshape(-1,1))\n",
    "model2 = LinearRegression()\n",
    "model2.fit(train_x_poly, train_y)\n",
    "error_train_2 = np.mean((model2.predict(train_x_poly) - train_y)**2)\n",
    "print(f'\\nTrain Error (polynomial, degree=2): {error_train_2}')\n",
    "y_pred_2 = model2.predict(valid_x_poly)\n",
    "error_test_2 = np.mean((y_pred_2 - valid_y)**2)\n",
    "print(f'Validation Error (polynomial, degree=2): {error_test_2}')\n",
    "\n",
    "# train a polynomial model (degree = 3)\n",
    "poly3 = PolynomialFeatures(degree=3)\n",
    "train_x_poly3 = poly3.fit_transform(train_x.reshape(-1,1))\n",
    "valid_x_poly3 = poly3.fit_transform(valid_x.reshape(-1,1))\n",
    "model3 = LinearRegression()\n",
    "model3.fit(train_x_poly3, train_y)\n",
    "error_train_3 = np.mean((model3.predict(train_x_poly3) - train_y)**2)\n",
    "print(f'\\nTrain Error (polynomial, degree=3): {error_train_3}')\n",
    "y_pred_3 = model3.predict(valid_x_poly3)\n",
    "error_test_3 = np.mean((y_pred_3 - valid_y)**2)\n",
    "print(f'Validation Error (polynomial, degree=3): {error_test_3}')"
   ]
  },
  {
   "cell_type": "code",
   "execution_count": 185,
   "metadata": {},
   "outputs": [
    {
     "data": {
      "text/plain": [
       "<AxesSubplot:>"
      ]
     },
     "execution_count": 185,
     "metadata": {},
     "output_type": "execute_result"
    },
    {
     "data": {
      "image/png": "[encoded data removed]",
      "text/plain": [
       "<Figure size 432x288 with 1 Axes>"
      ]
     },
     "metadata": {
      "needs_background": "light"
     },
     "output_type": "display_data"
    }
   ],
   "source": [
    "# import matplotlib.pyplot as plt\n",
    "# import seaborn as sns\n",
    "\n",
    "# train = [error_train_1, error_train_2, error_train_3]\n",
    "# validate = [error_test_1, error_test_2, error_test_3]\n",
    "# sns.barplot(x=['linear', 'degree=2', 'degree=3'], y=train, color='blue')\n",
    "# sns.barplot(x=['linear', 'degree=2', 'degree=3'], y=validate, color='orange')"
   ]
  },
  {
   "cell_type": "markdown",
   "metadata": {},
   "source": [
    "### q4\n",
    "When the training set is small, the contribution of variance to error may be more than that of bias and in such a case, we may prefer a simple model even though we know that it is too simple for the task. Can you give an example?"
   ]
  },
  {
   "cell_type": "markdown",
   "metadata": {},
   "source": [
    "### q5\n",
    "Generate a sample from a multivariate normal density $N(\\mu, \\Sigma)$, calculate $m$ and $S$, and compare them with $\\mu$ and $\\Sigma$. Check how your estimates change as the sample size changes."
   ]
  },
  {
   "cell_type": "code",
   "execution_count": 3,
   "metadata": {},
   "outputs": [],
   "source": [
    "import matplotlib.pyplot as plt\n",
    "from scipy.stats import multivariate_normal\n",
    "import numpy as np"
   ]
  },
  {
   "cell_type": "code",
   "execution_count": 47,
   "metadata": {},
   "outputs": [
    {
     "name": "stdout",
     "output_type": "stream",
     "text": [
      "mean [5.01694065 2.00090362]\n",
      "cov [[ 6.08991548 -2.9627677 ]\n",
      " [-2.9627677   3.44442192]]\n"
     ]
    }
   ],
   "source": [
    "mean = [5, 2]\n",
    "cov = np.array([[6, -3], [-3, 3.5]])\n",
    "# when sample size equals to 10\n",
    "sample = np.random.multivariate_normal(mean, cov, 5000)\n",
    "mean1 = np.mean(sample, axis=0)\n",
    "cov1 = np.cov(sample.T)\n",
    "print('mean', mean1)\n",
    "print('cov', cov1)"
   ]
  },
  {
   "cell_type": "code",
   "execution_count": 26,
   "metadata": {},
   "outputs": [
    {
     "data": {
      "text/plain": [
       "array([[ 8.4675698 , -3.53264726],\n",
       "       [-3.53264726,  2.81689842]])"
      ]
     },
     "execution_count": 26,
     "metadata": {},
     "output_type": "execute_result"
    }
   ],
   "source": []
  },
  {
   "cell_type": "code",
   "execution_count": null,
   "metadata": {},
   "outputs": [],
   "source": []
  }
 ],
 "metadata": {
  "kernelspec": {
   "display_name": "Python 3.8.5 ('base')",
   "language": "python",
   "name": "python3"
  },
  "language_info": {
   "codemirror_mode": {
    "name": "ipython",
    "version": 3
   },
   "file_extension": ".py",
   "mimetype": "text/x-python",
   "name": "python",
   "nbconvert_exporter": "python",
   "pygments_lexer": "ipython3",
   "version": "3.8.5"
  },
  "orig_nbformat": 4,
  "vscode": {
   "interpreter": {
    "hash": "5684c24e7b5fcef90f2a57823d93e544ff1f9f38d3d0df1544269a25d13d98c4"
   }
  }
 },
 "nbformat": 4,
 "nbformat_minor": 2
}
